{
  "cells": [
    {
      "metadata": {
        "_uuid": "8f2839f25d086af736a60e9eeb907d3b93b6e0e5",
        "_cell_guid": "b1076dfc-b9ad-4769-8c92-a6c4dae69d19",
        "trusted": true
      },
      "cell_type": "code",
      "source": "import numpy as np # linear algebra\nimport pandas as pd # data processing, CSV file I/O (e.g. pd.read_csv)\nimport seaborn as sns\nimport matplotlib.pyplot as plt\n\nfrom sklearn import linear_model\nfrom sklearn.linear_model import ElasticNet\nfrom sklearn.linear_model import LinearRegression as LR\nfrom sklearn.model_selection import train_test_split\n\nimport os",
      "execution_count": null,
      "outputs": []
    },
    {
      "metadata": {
        "_cell_guid": "79c7e3d0-c299-4dcb-8224-4455121ee9b0",
        "_uuid": "d629ff2d2480ee46fbb7e2d37f6b5fab8052498a",
        "trusted": true
      },
      "cell_type": "code",
      "source": "df = pd.read_csv('../input/avocado.csv')",
      "execution_count": null,
      "outputs": []
    },
    {
      "metadata": {
        "trusted": true,
        "_uuid": "302171a24413443f65e34ab8862f1657480cdf5d"
      },
      "cell_type": "code",
      "source": "df['Date'] = pd.to_datetime(df['Date'])",
      "execution_count": null,
      "outputs": []
    },
    {
      "metadata": {
        "trusted": true,
        "_uuid": "f2fe25388584583e312b592fe4eb5ddd27836dbc"
      },
      "cell_type": "code",
      "source": "df.columns\n#sns.pairplot(df)",
      "execution_count": null,
      "outputs": []
    },
    {
      "metadata": {
        "trusted": true,
        "_uuid": "d86c813ebd6f317523a4b700ad8bcf011579685f"
      },
      "cell_type": "code",
      "source": "pd.get_dummies(df.region)",
      "execution_count": null,
      "outputs": []
    },
    {
      "metadata": {
        "trusted": true,
        "_uuid": "cf3dafd5d80ca35043527018dc04514dfcd0df91"
      },
      "cell_type": "code",
      "source": "df.groupby('type').groups\nPREDICTION_TYPE = 'conventional'\nPREDICTING_FOR = 'TotalUS'\ndfConv = df[df.type == PREDICTION_TYPE]\ndfConv = dfConv[dfConv.region == PREDICTING_FOR]\n#sns.pairplot(dfUSConv)",
      "execution_count": null,
      "outputs": []
    },
    {
      "metadata": {
        "trusted": true,
        "scrolled": false,
        "_uuid": "59859336f000b62b63832c3078acf318c32c64c1"
      },
      "cell_type": "code",
      "source": "\n# List of predictors for training (for understanding which columns we should consider or not)\npredictors =  [dfConv.columns[0]] + list(dfConv.columns[3:10]) + [dfConv.columns[12]]  # setting columns as predictors\ntarget_name = dfConv.columns[2] # setting the Price as a target\n\n# Basic splitting of the input data set into train and test sets\n#df_train, df_test = train_test_split(df, test_size=0.2, random_state=0)\nX_train, X_test, y_train, y_test = train_test_split(dfConv[predictors], dfConv[target_name], test_size=0.2)\n#print (X_train.shape, y_train.shape)\n#print (X_test.shape, y_test.shape)\n\n# Setting and fitting a model - linear regression\n#regressor = LR(normalize=True)\nregressor = ElasticNet(alpha = 0.1, copy_X=True, fit_intercept=True, l1_ratio=0.6,\n      max_iter=4000000, random_state=0, warm_start=False, selection='random')\nregressor.fit(X_train, y_train)\n\n#Getting the score\nscore_train = regressor.score(X_train, y_train)\nscore_test = regressor.score(X_test, y_test)\n\npredictions = regressor.predict(X_test)\nprint(predictions[0:10])\nprint(\"Training set score: {:>.3}\\nTest set score: {:>.3}\".format(score_train, score_test))",
      "execution_count": null,
      "outputs": []
    },
    {
      "metadata": {
        "trusted": true,
        "_uuid": "841bf1b60f4e1caff94fdc9cb80d5a0c395eb5d7"
      },
      "cell_type": "code",
      "source": "## The line / model\n\nplt.scatter(range(len(y_test)), y_test)\nplt.plot(range(len(predictions)), predictions)\nplt.xlabel('True_Values')\nplt.ylabel('Predictions')",
      "execution_count": null,
      "outputs": []
    },
    {
      "metadata": {
        "trusted": true,
        "_uuid": "0f3f4e36a55dd229be8dfbd996415e5da5860a08"
      },
      "cell_type": "code",
      "source": "y_train.values",
      "execution_count": null,
      "outputs": []
    },
    {
      "metadata": {
        "trusted": true,
        "_uuid": "9c335b5d80cbf4397f566b992f4c80bc27fb3ab4"
      },
      "cell_type": "code",
      "source": "",
      "execution_count": null,
      "outputs": []
    }
  ],
  "metadata": {
    "kernelspec": {
      "display_name": "Python 3",
      "language": "python",
      "name": "python3"
    },
    "language_info": {
      "name": "python",
      "version": "3.6.6",
      "mimetype": "text/x-python",
      "codemirror_mode": {
        "name": "ipython",
        "version": 3
      },
      "pygments_lexer": "ipython3",
      "nbconvert_exporter": "python",
      "file_extension": ".py"
    }
  },
  "nbformat": 4,
  "nbformat_minor": 1
}